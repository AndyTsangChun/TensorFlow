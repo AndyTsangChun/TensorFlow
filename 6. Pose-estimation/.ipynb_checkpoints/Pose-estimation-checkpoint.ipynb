{
 "cells": [
  {
   "cell_type": "markdown",
   "metadata": {},
   "source": [
    "# Pose Estimation"
   ]
  },
  {
   "cell_type": "markdown",
   "metadata": {},
   "source": [
    "## Import"
   ]
  },
  {
   "cell_type": "code",
   "execution_count": 1,
   "metadata": {
    "collapsed": true
   },
   "outputs": [],
   "source": [
    "from IPython.display import Image\n",
    "from PIL import Image as pilImage\n",
    "import tensorflow as tf\n",
    "import numpy as np\n",
    "import os\n",
    "import time\n",
    "import math\n",
    "from datetime import timedelta\n",
    "# for auto-reloading external modules\n",
    "# see http://stackoverflow.com/questions/1907993/autoreload-of-modules-in-ipython\n",
    "%load_ext autoreload\n",
    "%autoreload 2"
   ]
  },
  {
   "cell_type": "markdown",
   "metadata": {},
   "source": [
    "## Load Data"
   ]
  },
  {
   "cell_type": "code",
   "execution_count": null,
   "metadata": {
    "collapsed": true
   },
   "outputs": [],
   "source": []
  },
  {
   "cell_type": "markdown",
   "metadata": {},
   "source": [
    "## Setting Variables"
   ]
  },
  {
   "cell_type": "code",
   "execution_count": null,
   "metadata": {
    "collapsed": true
   },
   "outputs": [],
   "source": [
    "# Learning rate\n",
    "learning_rate = 1e-4"
   ]
  },
  {
   "cell_type": "markdown",
   "metadata": {},
   "source": [
    "### Placeholder variables\n",
    "\n",
    "Everytime we execute the TensorFlow computational graph, we can feed different values to the Placeholder variables. These Placeholder variable are multi-dimensional array called <b>tensor</b> and the data-type is set to <b>float32</b>. \n",
    "\n",
    "<font color=\"red\">**None means it can hold an arbitrary number of images.</font>\n",
    "<br>The images input shape: [None, img_size, img_size, num_channels]\n",
    "<br>- Each image being <b>img_size</b> pixels high and <b>img_size</b> pixels wide and with <b>num_channels</b> colour channels.\n",
    "<br>The labels shape: [None, num_classes]\n",
    "<br>The class shape: [None]"
   ]
  },
  {
   "cell_type": "code",
   "execution_count": null,
   "metadata": {
    "collapsed": true
   },
   "outputs": [],
   "source": [
    "# TensorFlow expect 4-dim input X, so we have to reshape x\n",
    "# Output: [arbitrary, img_height, img_width, num_channels]\n",
    "# Note that all input is square, thus, img_height == img_width == img_size\n",
    "# num_images can be inferred automatically by using -1 \n",
    "x = tf.placeholder(tf.float32, shape=[None, IMAGE_SIZE, IMAGE_SIZE, NUM_CHANNELS], name='x')\n",
    "\n",
    "# Label y associated with X \n",
    "# Output: [arbitrary, ????]\n",
    "y_true = tf.placeholder(tf.float32, shape=[None, ???], name='y_true')"
   ]
  },
  {
   "cell_type": "markdown",
   "metadata": {},
   "source": [
    "## Architecture "
   ]
  },
  {
   "cell_type": "code",
   "execution_count": null,
   "metadata": {
    "collapsed": true
   },
   "outputs": [],
   "source": [
    "conv1_1, w1_1 = cnn.new_conv_layer(input=x, num_input_channels=3, filter_size=3, num_filters=64, padding='VALID')\n",
    "conv1_2, w1_2 = cnn.new_conv_layer(input=conv1_1, num_input_channels=3, filter_size=3, num_filters=64, padding='VALID', use_pooling=True)\n",
    "conv2_1, w2_1 = cnn.new_conv_layer(input=conv1_2, num_input_channels=64, filter_size=3, num_filters=128, padding='VALID')\n",
    "conv2_2, w2_2 = cnn.new_conv_layer(input=conv2_1, num_input_channels=128, filter_size=3, num_filters=128, padding='VALID', use_pooling=True)\n",
    "conv3_1, w3_1 = cnn.new_conv_layer(input=conv2_2, num_input_channels=128, filter_size=3, num_filters=256, padding='VALID')\n",
    "conv3_2, w3_2 = cnn.new_conv_layer(input=conv3_1, num_input_channels=256, filter_size=3, num_filters=256, padding='VALID')\n",
    "conv3_3, w3_3 = cnn.new_conv_layer(input=conv3_2, num_input_channels=256, filter_size=3, num_filters=256, padding='VALID')\n",
    "conv3_4, w3_4 = cnn.new_conv_layer(input=conv3_3, num_input_channels=256, filter_size=3, num_filters=256, padding='VALID', use_pooling=True)\n",
    "conv4_1, w4_1 = cnn.new_conv_layer(input=conv3_4, num_input_channels=256, filter_size=3, num_filters=512, padding='VALID')\n",
    "conv4_2, w4_2 = cnn.new_conv_layer(input=conv4_1, num_input_channels=512, filter_size=3, num_filters=512, padding='VALID')\n",
    "conv4_3, w4_3 = cnn.new_conv_layer(input=conv4_2, num_input_channels=512, filter_size=3, num_filters=256, padding='VALID')\n",
    "conv4_4, w4_4 = cnn.new_conv_layer(input=conv4_3, num_input_channels=256, filter_size=3, num_filters=128, padding='VALID')\n",
    "# stage 1 branch 1\n",
    "conv1_1_1, w1_1_1 = cnn.new_conv_layer(input=conv4_4, num_input_channels=128, filter_size=3, num_filters=128, padding='VALID')\n",
    "conv1_2_1, w1_2_1 = cnn.new_conv_layer(input=conv1_1_1, num_input_channels=128, filter_size=3, num_filters=128, padding='VALID')\n",
    "conv1_3_1, w1_3_1 = cnn.new_conv_layer(input=conv1_2_1, num_input_channels=128, filter_size=3, num_filters=128, padding='VALID')\n",
    "conv1_4_1, w1_4_1 = cnn.new_conv_layer(input=conv1_3_1, num_input_channels=128, filter_size=1, num_filters=512, padding='VALID')\n",
    "conv1_5_1, w1_5_1 = cnn.new_conv_layer(input=conv1_4_1, num_input_channels=512, filter_size=1, num_filters=38, padding='VALID', use_relu=False)\n",
    "# stage 1 branch 2\n",
    "conv1_1_2, w1_1_2 = cnn.new_conv_layer(input=conv4_4, num_input_channels=128, filter_size=3, num_filters=128, padding='VALID')\n",
    "conv1_2_2, w1_2_2 = cnn.new_conv_layer(input=conv1_1_2, num_input_channels=128, filter_size=3, num_filters=128, padding='VALID')\n",
    "conv1_3_2, w1_3_2 = cnn.new_conv_layer(input=conv1_2_2, num_input_channels=128, filter_size=3, num_filters=128, padding='VALID')\n",
    "conv1_4_2, w1_4_2 = cnn.new_conv_layer(input=conv1_3_2, num_input_channels=128, filter_size=1, num_filters=512, padding='VALID')\n",
    "conv1_5_2, w1_5_2 = cnn.new_conv_layer(input=conv1_4_2, num_input_channels=512, filter_size=1, num_filters=19, padding='VALID', use_relu=False)\n",
    "# concat 1\n",
    "concat1 = tf.concat([conv1_5_1, conv1_5_2], 1)\n",
    "# stage 2 branch 1\n",
    "conv2_1_1, w2_1_1 = cnn.new_conv_layer(input=concat1, num_input_channels=38, filter_size=7, num_filters=128, padding='VALID')\n",
    "conv2_2_1, w2_2_1 = cnn.new_conv_layer(input=conv2_1_1, num_input_channels=128, filter_size=7, num_filters=128, padding='VALID')\n",
    "conv2_3_1, w2_3_1 = cnn.new_conv_layer(input=conv2_2_1, num_input_channels=128, filter_size=7, num_filters=128, padding='VALID')\n",
    "conv2_4_1, w2_4_1 = cnn.new_conv_layer(input=conv2_3_1, num_input_channels=128, filter_size=7, num_filters=128, padding='VALID')\n",
    "conv2_5_1, w2_5_1 = cnn.new_conv_layer(input=conv2_4_1, num_input_channels=128, filter_size=7, num_filters=128, padding='VALID')\n",
    "conv2_6_1, w2_6_1 = cnn.new_conv_layer(input=conv2_5_1, num_input_channels=128, filter_size=1, num_filters=128, padding='VALID')\n",
    "conv2_7_1, w2_7_1 = cnn.new_conv_layer(input=conv2_6_1, num_input_channels=128, filter_size=1, num_filters=38, padding='VALID', use_relu=False)\n",
    "# stage 2 branch 2\n",
    "conv2_1_2, w2_1_2 = cnn.new_conv_layer(input=concat1, num_input_channels=19, filter_size=7, num_filters=128, padding='VALID')\n",
    "conv2_2_2, w2_2_2 = cnn.new_conv_layer(input=conv2_1_2, num_input_channels=128, filter_size=7, num_filters=128, padding='VALID')\n",
    "conv2_3_2, w2_3_2 = cnn.new_conv_layer(input=conv2_2_2, num_input_channels=128, filter_size=7, num_filters=128, padding='VALID')\n",
    "conv2_4_2, w2_4_2 = cnn.new_conv_layer(input=conv2_3_2, num_input_channels=128, filter_size=7, num_filters=128, padding='VALID')\n",
    "conv2_5_2, w2_5_2 = cnn.new_conv_layer(input=conv2_4_2, num_input_channels=128, filter_size=7, num_filters=128, padding='VALID')\n",
    "conv2_6_2, w2_6_2 = cnn.new_conv_layer(input=conv2_5_2, num_input_channels=128, filter_size=1, num_filters=128, padding='VALID')\n",
    "conv2_7_2, w2_7_2 = cnn.new_conv_layer(input=conv2_6_2, num_input_channels=128, filter_size=1, num_filters=19, padding='VALID', use_relu=False)\n",
    "# concat 2\n",
    "concat2 = tf.concat([conv2_7_1, conv2_7_2], 1)\n",
    "# stage 3 branch 1\n",
    "conv3_1_1, w3_1_1 = cnn.new_conv_layer(input=concat2, num_input_channels=38, filter_size=7, num_filters=128, padding='VALID')\n",
    "conv3_2_1, w3_2_1 = cnn.new_conv_layer(input=conv3_1_1, num_input_channels=128, filter_size=7, num_filters=128, padding='VALID')\n",
    "conv3_3_1, w3_3_1 = cnn.new_conv_layer(input=conv3_2_1, num_input_channels=128, filter_size=7, num_filters=128, padding='VALID')\n",
    "conv3_4_1, w3_4_1 = cnn.new_conv_layer(input=conv3_3_1, num_input_channels=128, filter_size=7, num_filters=128, padding='VALID')\n",
    "conv3_5_1, w3_5_1 = cnn.new_conv_layer(input=conv3_4_1, num_input_channels=128, filter_size=7, num_filters=128, padding='VALID')\n",
    "conv3_6_1, w3_6_1 = cnn.new_conv_layer(input=conv3_5_1, num_input_channels=128, filter_size=1, num_filters=128, padding='VALID')\n",
    "conv3_7_1, w3_7_1 = cnn.new_conv_layer(input=conv3_6_1, num_input_channels=128, filter_size=1, num_filters=38, padding='VALID', use_relu=False)\n",
    "# stage 3 branch 2\n",
    "conv3_1_2, w3_1_2 = cnn.new_conv_layer(input=concat2, num_input_channels=19, filter_size=7, num_filters=128, padding='VALID')\n",
    "conv3_2_2, w3_2_2 = cnn.new_conv_layer(input=conv3_1_2, num_input_channels=128, filter_size=7, num_filters=128, padding='VALID')\n",
    "conv3_3_2, w3_3_2 = cnn.new_conv_layer(input=conv3_2_2, num_input_channels=128, filter_size=7, num_filters=128, padding='VALID')\n",
    "conv3_4_2, w3_4_2 = cnn.new_conv_layer(input=conv3_3_2, num_input_channels=128, filter_size=7, num_filters=128, padding='VALID')\n",
    "conv3_5_2, w3_5_2 = cnn.new_conv_layer(input=conv3_4_2, num_input_channels=128, filter_size=7, num_filters=128, padding='VALID')\n",
    "conv3_6_2, w3_6_2 = cnn.new_conv_layer(input=conv3_5_2, num_input_channels=128, filter_size=1, num_filters=128, padding='VALID')\n",
    "conv3_7_2, w3_7_2 = cnn.new_conv_layer(input=conv3_6_2, num_input_channels=128, filter_size=1, num_filters=19, padding='VALID', use_relu=False)\n",
    "# concat 3\n",
    "concat3 = tf.concat([conv3_7_1, conv3_7_2], 1)\n",
    "# stage 4 branch 1\n",
    "conv4_1_1, w4_1_1 = cnn.new_conv_layer(input=concat3, num_input_channels=38, filter_size=7, num_filters=128, padding='VALID')\n",
    "conv4_2_1, w4_2_1 = cnn.new_conv_layer(input=conv4_1_1, num_input_channels=128, filter_size=7, num_filters=128, padding='VALID')\n",
    "conv4_3_1, w4_3_1 = cnn.new_conv_layer(input=conv4_2_1, num_input_channels=128, filter_size=7, num_filters=128, padding='VALID')\n",
    "conv4_4_1, w4_4_1 = cnn.new_conv_layer(input=conv4_3_1, num_input_channels=128, filter_size=7, num_filters=128, padding='VALID')\n",
    "conv4_5_1, w4_5_1 = cnn.new_conv_layer(input=conv4_4_1, num_input_channels=128, filter_size=7, num_filters=128, padding='VALID')\n",
    "conv4_6_1, w4_6_1 = cnn.new_conv_layer(input=conv4_5_1, num_input_channels=128, filter_size=1, num_filters=128, padding='VALID')\n",
    "conv4_7_1, w4_7_1 = cnn.new_conv_layer(input=conv4_6_1, num_input_channels=128, filter_size=1, num_filters=38, padding='VALID', use_relu=False)\n",
    "# stage 4 branch 2\n",
    "conv4_1_2, w4_1_2 = cnn.new_conv_layer(input=concat3, num_input_channels=19, filter_size=7, num_filters=128, padding='VALID')\n",
    "conv4_2_2, w4_2_2 = cnn.new_conv_layer(input=conv4_1_2, num_input_channels=128, filter_size=7, num_filters=128, padding='VALID')\n",
    "conv4_3_2, w4_3_2 = cnn.new_conv_layer(input=conv4_2_2, num_input_channels=128, filter_size=7, num_filters=128, padding='VALID')\n",
    "conv4_4_2, w4_4_2 = cnn.new_conv_layer(input=conv4_3_2, num_input_channels=128, filter_size=7, num_filters=128, padding='VALID')\n",
    "conv4_5_2, w4_5_2 = cnn.new_conv_layer(input=conv4_4_2, num_input_channels=128, filter_size=7, num_filters=128, padding='VALID')\n",
    "conv4_6_2, w4_6_2 = cnn.new_conv_layer(input=conv4_5_2, num_input_channels=128, filter_size=1, num_filters=128, padding='VALID')\n",
    "conv4_7_2, w4_7_2 = cnn.new_conv_layer(input=conv4_6_2, num_input_channels=128, filter_size=1, num_filters=19, padding='VALID', use_relu=False)\n",
    "# concat 4\n",
    "concat4 = tf.concat([conv4_7_1, conv4_7_2], 1)\n",
    "# stage 5 branch 1\n",
    "conv5_1_1, w5_1_1 = cnn.new_conv_layer(input=concat4, num_input_channels=38, filter_size=7, num_filters=128, padding='VALID')\n",
    "conv5_2_1, w5_2_1 = cnn.new_conv_layer(input=conv5_1_1, num_input_channels=128, filter_size=7, num_filters=128, padding='VALID')\n",
    "conv5_3_1, w5_3_1 = cnn.new_conv_layer(input=conv5_2_1, num_input_channels=128, filter_size=7, num_filters=128, padding='VALID')\n",
    "conv5_4_1, w5_4_1 = cnn.new_conv_layer(input=conv5_3_1, num_input_channels=128, filter_size=7, num_filters=128, padding='VALID')\n",
    "conv5_5_1, w5_5_1 = cnn.new_conv_layer(input=conv5_4_1, num_input_channels=128, filter_size=7, num_filters=128, padding='VALID')\n",
    "conv5_6_1, w5_6_1 = cnn.new_conv_layer(input=conv5_5_1, num_input_channels=128, filter_size=1, num_filters=128, padding='VALID')\n",
    "conv5_7_1, w5_7_1 = cnn.new_conv_layer(input=conv5_6_1, num_input_channels=128, filter_size=1, num_filters=38, padding='VALID', use_relu=False)\n",
    "# stage 5 branch 2\n",
    "conv5_1_2, w5_1_2 = cnn.new_conv_layer(input=concat4, num_input_channels=19, filter_size=7, num_filters=128, padding='VALID')\n",
    "conv5_2_2, w5_2_2 = cnn.new_conv_layer(input=conv5_1_2, num_input_channels=128, filter_size=7, num_filters=128, padding='VALID')\n",
    "conv5_3_2, w5_3_2 = cnn.new_conv_layer(input=conv5_2_2, num_input_channels=128, filter_size=7, num_filters=128, padding='VALID')\n",
    "conv5_4_2, w5_4_2 = cnn.new_conv_layer(input=conv5_3_2, num_input_channels=128, filter_size=7, num_filters=128, padding='VALID')\n",
    "conv5_5_2, w5_5_2 = cnn.new_conv_layer(input=conv5_4_2, num_input_channels=128, filter_size=7, num_filters=128, padding='VALID')\n",
    "conv5_6_2, w5_6_2 = cnn.new_conv_layer(input=conv5_5_2, num_input_channels=128, filter_size=1, num_filters=128, padding='VALID')\n",
    "conv5_7_2, w5_7_2 = cnn.new_conv_layer(input=conv5_6_2, num_input_channels=128, filter_size=1, num_filters=19, padding='VALID', use_relu=False)\n",
    "# concat 5\n",
    "concat5 = tf.concat([conv5_7_1, conv5_7_2], 1)\n",
    "# stage 6 branch 1\n",
    "conv6_1_1, w6_1_1 = cnn.new_conv_layer(input=concat5, num_input_channels=38, filter_size=7, num_filters=128, padding='VALID')\n",
    "conv6_2_1, w6_2_1 = cnn.new_conv_layer(input=conv6_1_1, num_input_channels=128, filter_size=7, num_filters=128, padding='VALID')\n",
    "conv6_3_1, w6_3_1 = cnn.new_conv_layer(input=conv6_2_1, num_input_channels=128, filter_size=7, num_filters=128, padding='VALID')\n",
    "conv6_4_1, w6_4_1 = cnn.new_conv_layer(input=conv6_3_1, num_input_channels=128, filter_size=7, num_filters=128, padding='VALID')\n",
    "conv6_5_1, w6_5_1 = cnn.new_conv_layer(input=conv6_4_1, num_input_channels=128, filter_size=7, num_filters=128, padding='VALID')\n",
    "conv6_6_1, w6_6_1 = cnn.new_conv_layer(input=conv6_5_1, num_input_channels=128, filter_size=1, num_filters=128, padding='VALID')\n",
    "conv6_7_1, w6_7_1 = cnn.new_conv_layer(input=conv6_6_1, num_input_channels=128, filter_size=1, num_filters=38, padding='VALID', use_relu=False)\n",
    "# stage 6 branch 2\n",
    "conv6_1_2, w6_1_2 = cnn.new_conv_layer(input=concat5, num_input_channels=19, filter_size=7, num_filters=128, padding='VALID')\n",
    "conv6_2_2, w6_2_2 = cnn.new_conv_layer(input=conv6_1_2, num_input_channels=128, filter_size=7, num_filters=128, padding='VALID')\n",
    "conv6_3_2, w6_3_2 = cnn.new_conv_layer(input=conv6_2_2, num_input_channels=128, filter_size=7, num_filters=128, padding='VALID')\n",
    "conv6_4_2, w6_4_2 = cnn.new_conv_layer(input=conv6_3_2, num_input_channels=128, filter_size=7, num_filters=128, padding='VALID')\n",
    "conv6_5_2, w6_5_2 = cnn.new_conv_layer(input=conv6_4_2, num_input_channels=128, filter_size=7, num_filters=128, padding='VALID')\n",
    "conv6_6_2, w6_6_2 = cnn.new_conv_layer(input=conv6_5_2, num_input_channels=128, filter_size=1, num_filters=128, padding='VALID')\n",
    "conv6_7_2, w6_7_2 = cnn.new_conv_layer(input=conv6_6_2, num_input_channels=128, filter_size=1, num_filters=19, padding='VALID', use_relu=False)"
   ]
  }
 ],
 "metadata": {
  "kernelspec": {
   "display_name": "Python 2",
   "language": "python",
   "name": "python2"
  },
  "language_info": {
   "codemirror_mode": {
    "name": "ipython",
    "version": 2
   },
   "file_extension": ".py",
   "mimetype": "text/x-python",
   "name": "python",
   "nbconvert_exporter": "python",
   "pygments_lexer": "ipython2",
   "version": "2.7.13"
  }
 },
 "nbformat": 4,
 "nbformat_minor": 2
}
